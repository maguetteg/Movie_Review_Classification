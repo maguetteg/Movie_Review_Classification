{
  "nbformat": 4,
  "nbformat_minor": 0,
  "metadata": {
    "colab": {
      "provenance": []
    },
    "kernelspec": {
      "name": "python3",
      "display_name": "Python 3"
    },
    "language_info": {
      "name": "python"
    }
  },
  "cells": [
    {
      "cell_type": "markdown",
      "source": [
        "<font color='red' size='+4'><b>Movie reviews classification using NLTK and Logistic regression</b></font>"
      ],
      "metadata": {
        "id": "g8PW8bGe6Bw1"
      }
    },
    {
      "cell_type": "code",
      "execution_count": null,
      "metadata": {
        "id": "WsXhxj4_KVL8",
        "colab": {
          "base_uri": "https://localhost:8080/"
        },
        "outputId": "a93558e3-7f05-400c-c63c-4cd0923662cb"
      },
      "outputs": [
        {
          "output_type": "stream",
          "name": "stderr",
          "text": [
            "[nltk_data] Downloading package stopwords to /root/nltk_data...\n",
            "[nltk_data]   Package stopwords is already up-to-date!\n",
            "[nltk_data] Downloading package punkt to /root/nltk_data...\n",
            "[nltk_data]   Package punkt is already up-to-date!\n",
            "[nltk_data] Downloading package wordnet to /root/nltk_data...\n",
            "[nltk_data]   Package wordnet is already up-to-date!\n"
          ]
        }
      ],
      "source": [
        "import pandas as pd\n",
        "import numpy as np\n",
        "import seaborn as sns\n",
        "from matplotlib import pyplot as plt\n",
        "\n",
        "\n",
        "import string\n",
        "import nltk\n",
        "from nltk.corpus import stopwords\n",
        "from nltk.tokenize import word_tokenize\n",
        "from nltk.stem import WordNetLemmatizer\n",
        "nltk.download('stopwords')\n",
        "nltk.download('punkt')\n",
        "nltk.download('wordnet')\n",
        "\n",
        "\n",
        "from sklearn.model_selection import train_test_split, GridSearchCV\n",
        "from sklearn.feature_extraction.text import CountVectorizer, TfidfTransformer\n",
        "from sklearn.linear_model import LogisticRegression\n",
        "from sklearn import metrics\n",
        "from sklearn.metrics import confusion_matrix, classification_report\n",
        "\n",
        "\n",
        "import warnings\n",
        "warnings.filterwarnings('ignore')"
      ]
    },
    {
      "cell_type": "markdown",
      "source": [
        "<font size='+2'><b>Dataset</b></font>"
      ],
      "metadata": {
        "id": "_d0-ZlFz8DNP"
      }
    },
    {
      "cell_type": "code",
      "source": [
        "movie_reviews = pd.read_csv('/content/drive/MyDrive/Devoir2/train.csv', sep = 'delimiter', names = ['text'], skiprows=1)\n",
        "\n",
        "# Separating IDs and labels from reviews\n",
        "movie_reviews[['id', 'label', 'review']] = movie_reviews.text.str.split(\",\", n=2, expand = True)\n",
        "\n",
        "\n",
        "# Drop unnecessary columns\n",
        "movie_reviews = movie_reviews [['label', 'review']]\n",
        "movie_reviews.head()"
      ],
      "metadata": {
        "id": "3tbjXXUQKZ3N",
        "colab": {
          "base_uri": "https://localhost:8080/",
          "height": 204
        },
        "outputId": "12e1de0f-3fc2-4f30-c713-7efecf2ad74a"
      },
      "execution_count": null,
      "outputs": [
        {
          "output_type": "execute_result",
          "data": {
            "text/plain": [
              "  label                                             review\n",
              "0     1  Wizards of the Lost Kingdom is a movie about a...\n",
              "1     1  Brilliant adaptation of the largely interior m...\n",
              "2     1  Typical De Palma movie made with lot's of styl...\n",
              "3     1  This is a fantastic series first and foremost....\n",
              "4     1  My only minor quibble with the film I grew up ..."
            ],
            "text/html": [
              "\n",
              "  <div id=\"df-687a04fd-3f3f-4764-95f8-98c06f18ba45\" class=\"colab-df-container\">\n",
              "    <div>\n",
              "<style scoped>\n",
              "    .dataframe tbody tr th:only-of-type {\n",
              "        vertical-align: middle;\n",
              "    }\n",
              "\n",
              "    .dataframe tbody tr th {\n",
              "        vertical-align: top;\n",
              "    }\n",
              "\n",
              "    .dataframe thead th {\n",
              "        text-align: right;\n",
              "    }\n",
              "</style>\n",
              "<table border=\"1\" class=\"dataframe\">\n",
              "  <thead>\n",
              "    <tr style=\"text-align: right;\">\n",
              "      <th></th>\n",
              "      <th>label</th>\n",
              "      <th>review</th>\n",
              "    </tr>\n",
              "  </thead>\n",
              "  <tbody>\n",
              "    <tr>\n",
              "      <th>0</th>\n",
              "      <td>1</td>\n",
              "      <td>Wizards of the Lost Kingdom is a movie about a...</td>\n",
              "    </tr>\n",
              "    <tr>\n",
              "      <th>1</th>\n",
              "      <td>1</td>\n",
              "      <td>Brilliant adaptation of the largely interior m...</td>\n",
              "    </tr>\n",
              "    <tr>\n",
              "      <th>2</th>\n",
              "      <td>1</td>\n",
              "      <td>Typical De Palma movie made with lot's of styl...</td>\n",
              "    </tr>\n",
              "    <tr>\n",
              "      <th>3</th>\n",
              "      <td>1</td>\n",
              "      <td>This is a fantastic series first and foremost....</td>\n",
              "    </tr>\n",
              "    <tr>\n",
              "      <th>4</th>\n",
              "      <td>1</td>\n",
              "      <td>My only minor quibble with the film I grew up ...</td>\n",
              "    </tr>\n",
              "  </tbody>\n",
              "</table>\n",
              "</div>\n",
              "    <div class=\"colab-df-buttons\">\n",
              "\n",
              "  <div class=\"colab-df-container\">\n",
              "    <button class=\"colab-df-convert\" onclick=\"convertToInteractive('df-687a04fd-3f3f-4764-95f8-98c06f18ba45')\"\n",
              "            title=\"Convert this dataframe to an interactive table.\"\n",
              "            style=\"display:none;\">\n",
              "\n",
              "  <svg xmlns=\"http://www.w3.org/2000/svg\" height=\"24px\" viewBox=\"0 -960 960 960\">\n",
              "    <path d=\"M120-120v-720h720v720H120Zm60-500h600v-160H180v160Zm220 220h160v-160H400v160Zm0 220h160v-160H400v160ZM180-400h160v-160H180v160Zm440 0h160v-160H620v160ZM180-180h160v-160H180v160Zm440 0h160v-160H620v160Z\"/>\n",
              "  </svg>\n",
              "    </button>\n",
              "\n",
              "  <style>\n",
              "    .colab-df-container {\n",
              "      display:flex;\n",
              "      gap: 12px;\n",
              "    }\n",
              "\n",
              "    .colab-df-convert {\n",
              "      background-color: #E8F0FE;\n",
              "      border: none;\n",
              "      border-radius: 50%;\n",
              "      cursor: pointer;\n",
              "      display: none;\n",
              "      fill: #1967D2;\n",
              "      height: 32px;\n",
              "      padding: 0 0 0 0;\n",
              "      width: 32px;\n",
              "    }\n",
              "\n",
              "    .colab-df-convert:hover {\n",
              "      background-color: #E2EBFA;\n",
              "      box-shadow: 0px 1px 2px rgba(60, 64, 67, 0.3), 0px 1px 3px 1px rgba(60, 64, 67, 0.15);\n",
              "      fill: #174EA6;\n",
              "    }\n",
              "\n",
              "    .colab-df-buttons div {\n",
              "      margin-bottom: 4px;\n",
              "    }\n",
              "\n",
              "    [theme=dark] .colab-df-convert {\n",
              "      background-color: #3B4455;\n",
              "      fill: #D2E3FC;\n",
              "    }\n",
              "\n",
              "    [theme=dark] .colab-df-convert:hover {\n",
              "      background-color: #434B5C;\n",
              "      box-shadow: 0px 1px 3px 1px rgba(0, 0, 0, 0.15);\n",
              "      filter: drop-shadow(0px 1px 2px rgba(0, 0, 0, 0.3));\n",
              "      fill: #FFFFFF;\n",
              "    }\n",
              "  </style>\n",
              "\n",
              "    <script>\n",
              "      const buttonEl =\n",
              "        document.querySelector('#df-687a04fd-3f3f-4764-95f8-98c06f18ba45 button.colab-df-convert');\n",
              "      buttonEl.style.display =\n",
              "        google.colab.kernel.accessAllowed ? 'block' : 'none';\n",
              "\n",
              "      async function convertToInteractive(key) {\n",
              "        const element = document.querySelector('#df-687a04fd-3f3f-4764-95f8-98c06f18ba45');\n",
              "        const dataTable =\n",
              "          await google.colab.kernel.invokeFunction('convertToInteractive',\n",
              "                                                    [key], {});\n",
              "        if (!dataTable) return;\n",
              "\n",
              "        const docLinkHtml = 'Like what you see? Visit the ' +\n",
              "          '<a target=\"_blank\" href=https://colab.research.google.com/notebooks/data_table.ipynb>data table notebook</a>'\n",
              "          + ' to learn more about interactive tables.';\n",
              "        element.innerHTML = '';\n",
              "        dataTable['output_type'] = 'display_data';\n",
              "        await google.colab.output.renderOutput(dataTable, element);\n",
              "        const docLink = document.createElement('div');\n",
              "        docLink.innerHTML = docLinkHtml;\n",
              "        element.appendChild(docLink);\n",
              "      }\n",
              "    </script>\n",
              "  </div>\n",
              "\n",
              "\n",
              "<div id=\"df-7ce51aa3-9af0-45f3-b9d7-4cd6f37b3f5f\">\n",
              "  <button class=\"colab-df-quickchart\" onclick=\"quickchart('df-7ce51aa3-9af0-45f3-b9d7-4cd6f37b3f5f')\"\n",
              "            title=\"Suggest charts\"\n",
              "            style=\"display:none;\">\n",
              "\n",
              "<svg xmlns=\"http://www.w3.org/2000/svg\" height=\"24px\"viewBox=\"0 0 24 24\"\n",
              "     width=\"24px\">\n",
              "    <g>\n",
              "        <path d=\"M19 3H5c-1.1 0-2 .9-2 2v14c0 1.1.9 2 2 2h14c1.1 0 2-.9 2-2V5c0-1.1-.9-2-2-2zM9 17H7v-7h2v7zm4 0h-2V7h2v10zm4 0h-2v-4h2v4z\"/>\n",
              "    </g>\n",
              "</svg>\n",
              "  </button>\n",
              "\n",
              "<style>\n",
              "  .colab-df-quickchart {\n",
              "      --bg-color: #E8F0FE;\n",
              "      --fill-color: #1967D2;\n",
              "      --hover-bg-color: #E2EBFA;\n",
              "      --hover-fill-color: #174EA6;\n",
              "      --disabled-fill-color: #AAA;\n",
              "      --disabled-bg-color: #DDD;\n",
              "  }\n",
              "\n",
              "  [theme=dark] .colab-df-quickchart {\n",
              "      --bg-color: #3B4455;\n",
              "      --fill-color: #D2E3FC;\n",
              "      --hover-bg-color: #434B5C;\n",
              "      --hover-fill-color: #FFFFFF;\n",
              "      --disabled-bg-color: #3B4455;\n",
              "      --disabled-fill-color: #666;\n",
              "  }\n",
              "\n",
              "  .colab-df-quickchart {\n",
              "    background-color: var(--bg-color);\n",
              "    border: none;\n",
              "    border-radius: 50%;\n",
              "    cursor: pointer;\n",
              "    display: none;\n",
              "    fill: var(--fill-color);\n",
              "    height: 32px;\n",
              "    padding: 0;\n",
              "    width: 32px;\n",
              "  }\n",
              "\n",
              "  .colab-df-quickchart:hover {\n",
              "    background-color: var(--hover-bg-color);\n",
              "    box-shadow: 0 1px 2px rgba(60, 64, 67, 0.3), 0 1px 3px 1px rgba(60, 64, 67, 0.15);\n",
              "    fill: var(--button-hover-fill-color);\n",
              "  }\n",
              "\n",
              "  .colab-df-quickchart-complete:disabled,\n",
              "  .colab-df-quickchart-complete:disabled:hover {\n",
              "    background-color: var(--disabled-bg-color);\n",
              "    fill: var(--disabled-fill-color);\n",
              "    box-shadow: none;\n",
              "  }\n",
              "\n",
              "  .colab-df-spinner {\n",
              "    border: 2px solid var(--fill-color);\n",
              "    border-color: transparent;\n",
              "    border-bottom-color: var(--fill-color);\n",
              "    animation:\n",
              "      spin 1s steps(1) infinite;\n",
              "  }\n",
              "\n",
              "  @keyframes spin {\n",
              "    0% {\n",
              "      border-color: transparent;\n",
              "      border-bottom-color: var(--fill-color);\n",
              "      border-left-color: var(--fill-color);\n",
              "    }\n",
              "    20% {\n",
              "      border-color: transparent;\n",
              "      border-left-color: var(--fill-color);\n",
              "      border-top-color: var(--fill-color);\n",
              "    }\n",
              "    30% {\n",
              "      border-color: transparent;\n",
              "      border-left-color: var(--fill-color);\n",
              "      border-top-color: var(--fill-color);\n",
              "      border-right-color: var(--fill-color);\n",
              "    }\n",
              "    40% {\n",
              "      border-color: transparent;\n",
              "      border-right-color: var(--fill-color);\n",
              "      border-top-color: var(--fill-color);\n",
              "    }\n",
              "    60% {\n",
              "      border-color: transparent;\n",
              "      border-right-color: var(--fill-color);\n",
              "    }\n",
              "    80% {\n",
              "      border-color: transparent;\n",
              "      border-right-color: var(--fill-color);\n",
              "      border-bottom-color: var(--fill-color);\n",
              "    }\n",
              "    90% {\n",
              "      border-color: transparent;\n",
              "      border-bottom-color: var(--fill-color);\n",
              "    }\n",
              "  }\n",
              "</style>\n",
              "\n",
              "  <script>\n",
              "    async function quickchart(key) {\n",
              "      const quickchartButtonEl =\n",
              "        document.querySelector('#' + key + ' button');\n",
              "      quickchartButtonEl.disabled = true;  // To prevent multiple clicks.\n",
              "      quickchartButtonEl.classList.add('colab-df-spinner');\n",
              "      try {\n",
              "        const charts = await google.colab.kernel.invokeFunction(\n",
              "            'suggestCharts', [key], {});\n",
              "      } catch (error) {\n",
              "        console.error('Error during call to suggestCharts:', error);\n",
              "      }\n",
              "      quickchartButtonEl.classList.remove('colab-df-spinner');\n",
              "      quickchartButtonEl.classList.add('colab-df-quickchart-complete');\n",
              "    }\n",
              "    (() => {\n",
              "      let quickchartButtonEl =\n",
              "        document.querySelector('#df-7ce51aa3-9af0-45f3-b9d7-4cd6f37b3f5f button');\n",
              "      quickchartButtonEl.style.display =\n",
              "        google.colab.kernel.accessAllowed ? 'block' : 'none';\n",
              "    })();\n",
              "  </script>\n",
              "</div>\n",
              "\n",
              "    </div>\n",
              "  </div>\n"
            ],
            "application/vnd.google.colaboratory.intrinsic+json": {
              "type": "dataframe",
              "variable_name": "movie_reviews",
              "summary": "{\n  \"name\": \"movie_reviews\",\n  \"rows\": 25000,\n  \"fields\": [\n    {\n      \"column\": \"label\",\n      \"properties\": {\n        \"dtype\": \"category\",\n        \"num_unique_values\": 2,\n        \"samples\": [\n          \"0\",\n          \"1\"\n        ],\n        \"semantic_type\": \"\",\n        \"description\": \"\"\n      }\n    },\n    {\n      \"column\": \"review\",\n      \"properties\": {\n        \"dtype\": \"string\",\n        \"num_unique_values\": 24904,\n        \"samples\": [\n          \"Definitely the product of young minds, this piece may very well appeal to the 20s crowd, who is still trying to find their place in the world, while obsessing over every neurosis. However, I can't imagine that the heavy amount of narcissistic navel-gazing, trite humor, or banal subject matter would be particularly engaging to anyone over 30. Another problem is that the peripheral characters, whom the filmmakers obviously have nothing but contempt for, are hyped up to such absurd caricatures for comic effect, that they fail to be relatable in any real way. <br /><br />However, one has to give some style points to the filmmakers, who obviously grew up in the video generation, and use every conceivable editing trick in the book in order to spruce up an otherwise non-existent plot. There are 2 points to remember here. First, beware of festival darlings. Second, even though we live in the age of youtube, not everyone's account of their mundane lives deserves big- screen treatment. But these young filmmakers have every right to make their film, and if others 20-somethings can find something in it to identify with, then all the better. Yet I could not help but think at the end of this film how this latest generation, just now coming of age, will fare in the real world that presents so many challenges and complications. In the age when every child is constantly reassured of how special they are, and that they all deserve their 15 minutes of exposure, resiliency and the ability to deal with adversity does not exactly appear to be this generation's strong point.\",\n          \"Being an otaku since the days of Robotech, I can still say that Gunbuster is one of my favorite animes of all time. Considering when it was made, the animation is of superior quality. There are no loops and sequences in which the art decreases in quality. Although the final episode is in black and white, it does not detract from the enjoyment of watching the film. Although it has been described as being \\\"sappy,\\\" it should be kept in mind that females do not react in the same way that males do. Since the main character is a female, it should be obvious that she does not necessarily need to resort to \\\"macho-man\\\" tactics in order to gain the respect of her peers. The seiryuu for Noriko, incidentally, also plays Akane in Ranma 1/2. Noriko is as 3-dimensional a cartoon can get; her personality captures the essence of a spirited girl who seems at first to be completely helpless but in the end succeeds through the strength of her will. The only complaint I have is that the mecha looked somewhat like teddy bears. Even the Gunbuster utilizes a rather dubious \\\"Homing Laser\\\" and \\\"Buster Shield\\\" (which is nothing more than having the machine wrap a giant velvety cloak around itself in true Dracula style) technique. I doubt that scene was meant to be funny, but it cracked me up. Yet all in all, I would rank Gunbuster in the top 20 anime of all time.\"\n        ],\n        \"semantic_type\": \"\",\n        \"description\": \"\"\n      }\n    }\n  ]\n}"
            }
          },
          "metadata": {},
          "execution_count": 2
        }
      ]
    },
    {
      "cell_type": "code",
      "source": [
        "movie_reviews.info()"
      ],
      "metadata": {
        "id": "f3ZdB4lmP2C8",
        "colab": {
          "base_uri": "https://localhost:8080/"
        },
        "outputId": "e6ae5de4-2d54-497a-8162-05b16d138dd1"
      },
      "execution_count": null,
      "outputs": [
        {
          "output_type": "stream",
          "name": "stdout",
          "text": [
            "<class 'pandas.core.frame.DataFrame'>\n",
            "RangeIndex: 25000 entries, 0 to 24999\n",
            "Data columns (total 2 columns):\n",
            " #   Column  Non-Null Count  Dtype \n",
            "---  ------  --------------  ----- \n",
            " 0   label   25000 non-null  object\n",
            " 1   review  25000 non-null  object\n",
            "dtypes: object(2)\n",
            "memory usage: 390.8+ KB\n"
          ]
        }
      ]
    },
    {
      "cell_type": "code",
      "source": [
        "movie_reviews['label'] = movie_reviews['label'].astype(int)"
      ],
      "metadata": {
        "id": "lKPFda0EQMFi"
      },
      "execution_count": null,
      "outputs": []
    },
    {
      "cell_type": "code",
      "source": [
        "palette = 'cool'\n",
        "sns.set_palette(palette)\n",
        "sns.countplot(data = movie_reviews, x = 'label', palette = palette)\n",
        "plt.title(\"Labels repartition\", fontsize = 14)\n",
        "plt.xlabel('Labels', fontsize = 14)\n",
        "plt.ylabel('Frequency', fontsize = 14)"
      ],
      "metadata": {
        "id": "yegcA-VSHy_U",
        "colab": {
          "base_uri": "https://localhost:8080/",
          "height": 495
        },
        "outputId": "16ed23d8-a9fc-4d87-a168-5afa5d44e468"
      },
      "execution_count": null,
      "outputs": [
        {
          "output_type": "execute_result",
          "data": {
            "text/plain": [
              "Text(0, 0.5, 'Frequency')"
            ]
          },
          "metadata": {},
          "execution_count": 5
        },
        {
          "output_type": "display_data",
          "data": {
            "text/plain": [
              "<Figure size 640x480 with 1 Axes>"
            ],
            "image/png": "[encoded data removed]"
          },
          "metadata": {}
        }
      ]
    },
    {
      "cell_type": "markdown",
      "source": [
        "<font size='+2'><b>Vocabulary</b></font>"
      ],
      "metadata": {
        "id": "BbfNVwPS8N8j"
      }
    },
    {
      "cell_type": "code",
      "source": [
        "# Vocabulary\n",
        "txt = \"/content/drive/MyDrive/Devoir2/vocab.txt\"\n",
        "vocab = np.loadtxt(txt, delimiter='\\t', dtype=str)\n",
        "print(vocab)"
      ],
      "metadata": {
        "id": "eOjcN1yELAn2",
        "colab": {
          "base_uri": "https://localhost:8080/"
        },
        "outputId": "8f60e3c6-ce18-4852-bb5a-f9bea1c6cb8a"
      },
      "execution_count": null,
      "outputs": [
        {
          "output_type": "stream",
          "name": "stdout",
          "text": [
            "['the' 'and' 'a' ... 'kinky-sex' 'urrrghhh' 'investigator-like']\n"
          ]
        }
      ]
    },
    {
      "cell_type": "markdown",
      "source": [
        "<font color = 'purple' size='+3'><b>Preprocessing</b></font>"
      ],
      "metadata": {
        "id": "2tVEKPn28VIA"
      }
    },
    {
      "cell_type": "code",
      "source": [
        "string.punctuation\n",
        "\n",
        "# This function below removes all punctuations\n",
        "def remove_punctuation(text):\n",
        "    punctuationfree=\"\".join([i for i in text if i not in string.punctuation])\n",
        "    return punctuationfree"
      ],
      "metadata": {
        "id": "VCxvrYRNFpfc"
      },
      "execution_count": null,
      "outputs": []
    },
    {
      "cell_type": "code",
      "source": [
        "# This function below removes all stopwords except 'not'\n",
        "def remove_stopword(text):\n",
        "    stopword = stopwords.words('english')\n",
        "    stopword.remove('not')\n",
        "    a=[w for w in nltk.word_tokenize(text) if w not in stopword]\n",
        "    return ' '.join(a)"
      ],
      "metadata": {
        "id": "I7-ufQeYD3GT"
      },
      "execution_count": null,
      "outputs": []
    },
    {
      "cell_type": "code",
      "source": [
        "# Lemmatization\n",
        "lemmatizer = WordNetLemmatizer()\n",
        "def lemmatize_words(text):\n",
        "    return \" \".join([lemmatizer.lemmatize(word) for word in text.split()])"
      ],
      "metadata": {
        "id": "CnDeesTtEFhw"
      },
      "execution_count": null,
      "outputs": []
    },
    {
      "cell_type": "code",
      "source": [
        "# Preprocessing function\n",
        "def preprocess_text(df):\n",
        "\n",
        "    # Lowering all characters\n",
        "    df['clean_review'] = df['review'].apply(lambda x: x.lower())\n",
        "\n",
        "    # Removing punctuations\n",
        "    df['clean_review'] = df['clean_review'].apply(lambda x:remove_punctuation(x))\n",
        "\n",
        "    # Removing stopwords (except not)\n",
        "    df['clean_review'] = df['clean_review'].apply(remove_stopword)\n",
        "\n",
        "    # Lemmatization\n",
        "    df[\"clean_review\"] = df[\"clean_review\"].apply(lemmatize_words)\n",
        "\n",
        "    return df\n",
        "\n",
        "preprocess_text(movie_reviews)"
      ],
      "metadata": {
        "id": "vgWxAuuy7QVp",
        "colab": {
          "base_uri": "https://localhost:8080/",
          "height": 419
        },
        "outputId": "f214d832-58e0-41a0-b902-10c86458e96c"
      },
      "execution_count": null,
      "outputs": [
        {
          "output_type": "execute_result",
          "data": {
            "text/plain": [
              "       label                                             review  \\\n",
              "0          1  Wizards of the Lost Kingdom is a movie about a...   \n",
              "1          1  Brilliant adaptation of the largely interior m...   \n",
              "2          1  Typical De Palma movie made with lot's of styl...   \n",
              "3          1  This is a fantastic series first and foremost....   \n",
              "4          1  My only minor quibble with the film I grew up ...   \n",
              "...      ...                                                ...   \n",
              "24995      0  I hate to even waste the time it takes to writ...   \n",
              "24996      0  The whole Biker Movie genre has to be made up ...   \n",
              "24997      0  This movie was horrible. I watched it three ti...   \n",
              "24998      0  That's not the sound of bees, that's the effec...   \n",
              "24999      0  This movie has a few things going for it right...   \n",
              "\n",
              "                                            clean_review  \n",
              "0      wizard lost kingdom movie young prince simon b...  \n",
              "1      brilliant adaptation largely interior monologu...  \n",
              "2      typical de palma movie made lot style scene br...  \n",
              "3      fantastic series first foremost well done inte...  \n",
              "4      minor quibble film grew knowing stairway heave...  \n",
              "...                                                  ...  \n",
              "24995  hate even waste time take write 10 line atroci...  \n",
              "24996  whole biker movie genre made worst film ever m...  \n",
              "24997  movie horrible watched three time not even who...  \n",
              "24998  thats not sound bee thats effect induced watch...  \n",
              "24999  movie thing going right bat dani filth lead ac...  \n",
              "\n",
              "[25000 rows x 3 columns]"
            ],
            "text/html": [
              "\n",
              "  <div id=\"df-3b3f5294-fe8c-462c-8114-7868280561b8\" class=\"colab-df-container\">\n",
              "    <div>\n",
              "<style scoped>\n",
              "    .dataframe tbody tr th:only-of-type {\n",
              "        vertical-align: middle;\n",
              "    }\n",
              "\n",
              "    .dataframe tbody tr th {\n",
              "        vertical-align: top;\n",
              "    }\n",
              "\n",
              "    .dataframe thead th {\n",
              "        text-align: right;\n",
              "    }\n",
              "</style>\n",
              "<table border=\"1\" class=\"dataframe\">\n",
              "  <thead>\n",
              "    <tr style=\"text-align: right;\">\n",
              "      <th></th>\n",
              "      <th>label</th>\n",
              "      <th>review</th>\n",
              "      <th>clean_review</th>\n",
              "    </tr>\n",
              "  </thead>\n",
              "  <tbody>\n",
              "    <tr>\n",
              "      <th>0</th>\n",
              "      <td>1</td>\n",
              "      <td>Wizards of the Lost Kingdom is a movie about a...</td>\n",
              "      <td>wizard lost kingdom movie young prince simon b...</td>\n",
              "    </tr>\n",
              "    <tr>\n",
              "      <th>1</th>\n",
              "      <td>1</td>\n",
              "      <td>Brilliant adaptation of the largely interior m...</td>\n",
              "      <td>brilliant adaptation largely interior monologu...</td>\n",
              "    </tr>\n",
              "    <tr>\n",
              "      <th>2</th>\n",
              "      <td>1</td>\n",
              "      <td>Typical De Palma movie made with lot's of styl...</td>\n",
              "      <td>typical de palma movie made lot style scene br...</td>\n",
              "    </tr>\n",
              "    <tr>\n",
              "      <th>3</th>\n",
              "      <td>1</td>\n",
              "      <td>This is a fantastic series first and foremost....</td>\n",
              "      <td>fantastic series first foremost well done inte...</td>\n",
              "    </tr>\n",
              "    <tr>\n",
              "      <th>4</th>\n",
              "      <td>1</td>\n",
              "      <td>My only minor quibble with the film I grew up ...</td>\n",
              "      <td>minor quibble film grew knowing stairway heave...</td>\n",
              "    </tr>\n",
              "    <tr>\n",
              "      <th>...</th>\n",
              "      <td>...</td>\n",
              "      <td>...</td>\n",
              "      <td>...</td>\n",
              "    </tr>\n",
              "    <tr>\n",
              "      <th>24995</th>\n",
              "      <td>0</td>\n",
              "      <td>I hate to even waste the time it takes to writ...</td>\n",
              "      <td>hate even waste time take write 10 line atroci...</td>\n",
              "    </tr>\n",
              "    <tr>\n",
              "      <th>24996</th>\n",
              "      <td>0</td>\n",
              "      <td>The whole Biker Movie genre has to be made up ...</td>\n",
              "      <td>whole biker movie genre made worst film ever m...</td>\n",
              "    </tr>\n",
              "    <tr>\n",
              "      <th>24997</th>\n",
              "      <td>0</td>\n",
              "      <td>This movie was horrible. I watched it three ti...</td>\n",
              "      <td>movie horrible watched three time not even who...</td>\n",
              "    </tr>\n",
              "    <tr>\n",
              "      <th>24998</th>\n",
              "      <td>0</td>\n",
              "      <td>That's not the sound of bees, that's the effec...</td>\n",
              "      <td>thats not sound bee thats effect induced watch...</td>\n",
              "    </tr>\n",
              "    <tr>\n",
              "      <th>24999</th>\n",
              "      <td>0</td>\n",
              "      <td>This movie has a few things going for it right...</td>\n",
              "      <td>movie thing going right bat dani filth lead ac...</td>\n",
              "    </tr>\n",
              "  </tbody>\n",
              "</table>\n",
              "<p>25000 rows × 3 columns</p>\n",
              "</div>\n",
              "    <div class=\"colab-df-buttons\">\n",
              "\n",
              "  <div class=\"colab-df-container\">\n",
              "    <button class=\"colab-df-convert\" onclick=\"convertToInteractive('df-3b3f5294-fe8c-462c-8114-7868280561b8')\"\n",
              "            title=\"Convert this dataframe to an interactive table.\"\n",
              "            style=\"display:none;\">\n",
              "\n",
              "  <svg xmlns=\"http://www.w3.org/2000/svg\" height=\"24px\" viewBox=\"0 -960 960 960\">\n",
              "    <path d=\"M120-120v-720h720v720H120Zm60-500h600v-160H180v160Zm220 220h160v-160H400v160Zm0 220h160v-160H400v160ZM180-400h160v-160H180v160Zm440 0h160v-160H620v160ZM180-180h160v-160H180v160Zm440 0h160v-160H620v160Z\"/>\n",
              "  </svg>\n",
              "    </button>\n",
              "\n",
              "  <style>\n",
              "    .colab-df-container {\n",
              "      display:flex;\n",
              "      gap: 12px;\n",
              "    }\n",
              "\n",
              "    .colab-df-convert {\n",
              "      background-color: #E8F0FE;\n",
              "      border: none;\n",
              "      border-radius: 50%;\n",
              "      cursor: pointer;\n",
              "      display: none;\n",
              "      fill: #1967D2;\n",
              "      height: 32px;\n",
              "      padding: 0 0 0 0;\n",
              "      width: 32px;\n",
              "    }\n",
              "\n",
              "    .colab-df-convert:hover {\n",
              "      background-color: #E2EBFA;\n",
              "      box-shadow: 0px 1px 2px rgba(60, 64, 67, 0.3), 0px 1px 3px 1px rgba(60, 64, 67, 0.15);\n",
              "      fill: #174EA6;\n",
              "    }\n",
              "\n",
              "    .colab-df-buttons div {\n",
              "      margin-bottom: 4px;\n",
              "    }\n",
              "\n",
              "    [theme=dark] .colab-df-convert {\n",
              "      background-color: #3B4455;\n",
              "      fill: #D2E3FC;\n",
              "    }\n",
              "\n",
              "    [theme=dark] .colab-df-convert:hover {\n",
              "      background-color: #434B5C;\n",
              "      box-shadow: 0px 1px 3px 1px rgba(0, 0, 0, 0.15);\n",
              "      filter: drop-shadow(0px 1px 2px rgba(0, 0, 0, 0.3));\n",
              "      fill: #FFFFFF;\n",
              "    }\n",
              "  </style>\n",
              "\n",
              "    <script>\n",
              "      const buttonEl =\n",
              "        document.querySelector('#df-3b3f5294-fe8c-462c-8114-7868280561b8 button.colab-df-convert');\n",
              "      buttonEl.style.display =\n",
              "        google.colab.kernel.accessAllowed ? 'block' : 'none';\n",
              "\n",
              "      async function convertToInteractive(key) {\n",
              "        const element = document.querySelector('#df-3b3f5294-fe8c-462c-8114-7868280561b8');\n",
              "        const dataTable =\n",
              "          await google.colab.kernel.invokeFunction('convertToInteractive',\n",
              "                                                    [key], {});\n",
              "        if (!dataTable) return;\n",
              "\n",
              "        const docLinkHtml = 'Like what you see? Visit the ' +\n",
              "          '<a target=\"_blank\" href=https://colab.research.google.com/notebooks/data_table.ipynb>data table notebook</a>'\n",
              "          + ' to learn more about interactive tables.';\n",
              "        element.innerHTML = '';\n",
              "        dataTable['output_type'] = 'display_data';\n",
              "        await google.colab.output.renderOutput(dataTable, element);\n",
              "        const docLink = document.createElement('div');\n",
              "        docLink.innerHTML = docLinkHtml;\n",
              "        element.appendChild(docLink);\n",
              "      }\n",
              "    </script>\n",
              "  </div>\n",
              "\n",
              "\n",
              "<div id=\"df-7addb130-3962-4b26-bcaa-f993672e77c8\">\n",
              "  <button class=\"colab-df-quickchart\" onclick=\"quickchart('df-7addb130-3962-4b26-bcaa-f993672e77c8')\"\n",
              "            title=\"Suggest charts\"\n",
              "            style=\"display:none;\">\n",
              "\n",
              "<svg xmlns=\"http://www.w3.org/2000/svg\" height=\"24px\"viewBox=\"0 0 24 24\"\n",
              "     width=\"24px\">\n",
              "    <g>\n",
              "        <path d=\"M19 3H5c-1.1 0-2 .9-2 2v14c0 1.1.9 2 2 2h14c1.1 0 2-.9 2-2V5c0-1.1-.9-2-2-2zM9 17H7v-7h2v7zm4 0h-2V7h2v10zm4 0h-2v-4h2v4z\"/>\n",
              "    </g>\n",
              "</svg>\n",
              "  </button>\n",
              "\n",
              "<style>\n",
              "  .colab-df-quickchart {\n",
              "      --bg-color: #E8F0FE;\n",
              "      --fill-color: #1967D2;\n",
              "      --hover-bg-color: #E2EBFA;\n",
              "      --hover-fill-color: #174EA6;\n",
              "      --disabled-fill-color: #AAA;\n",
              "      --disabled-bg-color: #DDD;\n",
              "  }\n",
              "\n",
              "  [theme=dark] .colab-df-quickchart {\n",
              "      --bg-color: #3B4455;\n",
              "      --fill-color: #D2E3FC;\n",
              "      --hover-bg-color: #434B5C;\n",
              "      --hover-fill-color: #FFFFFF;\n",
              "      --disabled-bg-color: #3B4455;\n",
              "      --disabled-fill-color: #666;\n",
              "  }\n",
              "\n",
              "  .colab-df-quickchart {\n",
              "    background-color: var(--bg-color);\n",
              "    border: none;\n",
              "    border-radius: 50%;\n",
              "    cursor: pointer;\n",
              "    display: none;\n",
              "    fill: var(--fill-color);\n",
              "    height: 32px;\n",
              "    padding: 0;\n",
              "    width: 32px;\n",
              "  }\n",
              "\n",
              "  .colab-df-quickchart:hover {\n",
              "    background-color: var(--hover-bg-color);\n",
              "    box-shadow: 0 1px 2px rgba(60, 64, 67, 0.3), 0 1px 3px 1px rgba(60, 64, 67, 0.15);\n",
              "    fill: var(--button-hover-fill-color);\n",
              "  }\n",
              "\n",
              "  .colab-df-quickchart-complete:disabled,\n",
              "  .colab-df-quickchart-complete:disabled:hover {\n",
              "    background-color: var(--disabled-bg-color);\n",
              "    fill: var(--disabled-fill-color);\n",
              "    box-shadow: none;\n",
              "  }\n",
              "\n",
              "  .colab-df-spinner {\n",
              "    border: 2px solid var(--fill-color);\n",
              "    border-color: transparent;\n",
              "    border-bottom-color: var(--fill-color);\n",
              "    animation:\n",
              "      spin 1s steps(1) infinite;\n",
              "  }\n",
              "\n",
              "  @keyframes spin {\n",
              "    0% {\n",
              "      border-color: transparent;\n",
              "      border-bottom-color: var(--fill-color);\n",
              "      border-left-color: var(--fill-color);\n",
              "    }\n",
              "    20% {\n",
              "      border-color: transparent;\n",
              "      border-left-color: var(--fill-color);\n",
              "      border-top-color: var(--fill-color);\n",
              "    }\n",
              "    30% {\n",
              "      border-color: transparent;\n",
              "      border-left-color: var(--fill-color);\n",
              "      border-top-color: var(--fill-color);\n",
              "      border-right-color: var(--fill-color);\n",
              "    }\n",
              "    40% {\n",
              "      border-color: transparent;\n",
              "      border-right-color: var(--fill-color);\n",
              "      border-top-color: var(--fill-color);\n",
              "    }\n",
              "    60% {\n",
              "      border-color: transparent;\n",
              "      border-right-color: var(--fill-color);\n",
              "    }\n",
              "    80% {\n",
              "      border-color: transparent;\n",
              "      border-right-color: var(--fill-color);\n",
              "      border-bottom-color: var(--fill-color);\n",
              "    }\n",
              "    90% {\n",
              "      border-color: transparent;\n",
              "      border-bottom-color: var(--fill-color);\n",
              "    }\n",
              "  }\n",
              "</style>\n",
              "\n",
              "  <script>\n",
              "    async function quickchart(key) {\n",
              "      const quickchartButtonEl =\n",
              "        document.querySelector('#' + key + ' button');\n",
              "      quickchartButtonEl.disabled = true;  // To prevent multiple clicks.\n",
              "      quickchartButtonEl.classList.add('colab-df-spinner');\n",
              "      try {\n",
              "        const charts = await google.colab.kernel.invokeFunction(\n",
              "            'suggestCharts', [key], {});\n",
              "      } catch (error) {\n",
              "        console.error('Error during call to suggestCharts:', error);\n",
              "      }\n",
              "      quickchartButtonEl.classList.remove('colab-df-spinner');\n",
              "      quickchartButtonEl.classList.add('colab-df-quickchart-complete');\n",
              "    }\n",
              "    (() => {\n",
              "      let quickchartButtonEl =\n",
              "        document.querySelector('#df-7addb130-3962-4b26-bcaa-f993672e77c8 button');\n",
              "      quickchartButtonEl.style.display =\n",
              "        google.colab.kernel.accessAllowed ? 'block' : 'none';\n",
              "    })();\n",
              "  </script>\n",
              "</div>\n",
              "\n",
              "  <div id=\"id_3467041a-dfef-4af4-b38e-5f53c9a05527\">\n",
              "    <style>\n",
              "      .colab-df-generate {\n",
              "        background-color: #E8F0FE;\n",
              "        border: none;\n",
              "        border-radius: 50%;\n",
              "        cursor: pointer;\n",
              "        display: none;\n",
              "        fill: #1967D2;\n",
              "        height: 32px;\n",
              "        padding: 0 0 0 0;\n",
              "        width: 32px;\n",
              "      }\n",
              "\n",
              "      .colab-df-generate:hover {\n",
              "        background-color: #E2EBFA;\n",
              "        box-shadow: 0px 1px 2px rgba(60, 64, 67, 0.3), 0px 1px 3px 1px rgba(60, 64, 67, 0.15);\n",
              "        fill: #174EA6;\n",
              "      }\n",
              "\n",
              "      [theme=dark] .colab-df-generate {\n",
              "        background-color: #3B4455;\n",
              "        fill: #D2E3FC;\n",
              "      }\n",
              "\n",
              "      [theme=dark] .colab-df-generate:hover {\n",
              "        background-color: #434B5C;\n",
              "        box-shadow: 0px 1px 3px 1px rgba(0, 0, 0, 0.15);\n",
              "        filter: drop-shadow(0px 1px 2px rgba(0, 0, 0, 0.3));\n",
              "        fill: #FFFFFF;\n",
              "      }\n",
              "    </style>\n",
              "    <button class=\"colab-df-generate\" onclick=\"generateWithVariable('movie_reviews')\"\n",
              "            title=\"Generate code using this dataframe.\"\n",
              "            style=\"display:none;\">\n",
              "\n",
              "  <svg xmlns=\"http://www.w3.org/2000/svg\" height=\"24px\"viewBox=\"0 0 24 24\"\n",
              "       width=\"24px\">\n",
              "    <path d=\"M7,19H8.4L18.45,9,17,7.55,7,17.6ZM5,21V16.75L18.45,3.32a2,2,0,0,1,2.83,0l1.4,1.43a1.91,1.91,0,0,1,.58,1.4,1.91,1.91,0,0,1-.58,1.4L9.25,21ZM18.45,9,17,7.55Zm-12,3A5.31,5.31,0,0,0,4.9,8.1,5.31,5.31,0,0,0,1,6.5,5.31,5.31,0,0,0,4.9,4.9,5.31,5.31,0,0,0,6.5,1,5.31,5.31,0,0,0,8.1,4.9,5.31,5.31,0,0,0,12,6.5,5.46,5.46,0,0,0,6.5,12Z\"/>\n",
              "  </svg>\n",
              "    </button>\n",
              "    <script>\n",
              "      (() => {\n",
              "      const buttonEl =\n",
              "        document.querySelector('#id_3467041a-dfef-4af4-b38e-5f53c9a05527 button.colab-df-generate');\n",
              "      buttonEl.style.display =\n",
              "        google.colab.kernel.accessAllowed ? 'block' : 'none';\n",
              "\n",
              "      buttonEl.onclick = () => {\n",
              "        google.colab.notebook.generateWithVariable('movie_reviews');\n",
              "      }\n",
              "      })();\n",
              "    </script>\n",
              "  </div>\n",
              "\n",
              "    </div>\n",
              "  </div>\n"
            ],
            "application/vnd.google.colaboratory.intrinsic+json": {
              "type": "dataframe",
              "variable_name": "movie_reviews",
              "summary": "{\n  \"name\": \"movie_reviews\",\n  \"rows\": 25000,\n  \"fields\": [\n    {\n      \"column\": \"label\",\n      \"properties\": {\n        \"dtype\": \"number\",\n        \"std\": 0,\n        \"min\": 0,\n        \"max\": 1,\n        \"num_unique_values\": 2,\n        \"samples\": [\n          0,\n          1\n        ],\n        \"semantic_type\": \"\",\n        \"description\": \"\"\n      }\n    },\n    {\n      \"column\": \"review\",\n      \"properties\": {\n        \"dtype\": \"string\",\n        \"num_unique_values\": 24904,\n        \"samples\": [\n          \"Definitely the product of young minds, this piece may very well appeal to the 20s crowd, who is still trying to find their place in the world, while obsessing over every neurosis. However, I can't imagine that the heavy amount of narcissistic navel-gazing, trite humor, or banal subject matter would be particularly engaging to anyone over 30. Another problem is that the peripheral characters, whom the filmmakers obviously have nothing but contempt for, are hyped up to such absurd caricatures for comic effect, that they fail to be relatable in any real way. <br /><br />However, one has to give some style points to the filmmakers, who obviously grew up in the video generation, and use every conceivable editing trick in the book in order to spruce up an otherwise non-existent plot. There are 2 points to remember here. First, beware of festival darlings. Second, even though we live in the age of youtube, not everyone's account of their mundane lives deserves big- screen treatment. But these young filmmakers have every right to make their film, and if others 20-somethings can find something in it to identify with, then all the better. Yet I could not help but think at the end of this film how this latest generation, just now coming of age, will fare in the real world that presents so many challenges and complications. In the age when every child is constantly reassured of how special they are, and that they all deserve their 15 minutes of exposure, resiliency and the ability to deal with adversity does not exactly appear to be this generation's strong point.\",\n          \"Being an otaku since the days of Robotech, I can still say that Gunbuster is one of my favorite animes of all time. Considering when it was made, the animation is of superior quality. There are no loops and sequences in which the art decreases in quality. Although the final episode is in black and white, it does not detract from the enjoyment of watching the film. Although it has been described as being \\\"sappy,\\\" it should be kept in mind that females do not react in the same way that males do. Since the main character is a female, it should be obvious that she does not necessarily need to resort to \\\"macho-man\\\" tactics in order to gain the respect of her peers. The seiryuu for Noriko, incidentally, also plays Akane in Ranma 1/2. Noriko is as 3-dimensional a cartoon can get; her personality captures the essence of a spirited girl who seems at first to be completely helpless but in the end succeeds through the strength of her will. The only complaint I have is that the mecha looked somewhat like teddy bears. Even the Gunbuster utilizes a rather dubious \\\"Homing Laser\\\" and \\\"Buster Shield\\\" (which is nothing more than having the machine wrap a giant velvety cloak around itself in true Dracula style) technique. I doubt that scene was meant to be funny, but it cracked me up. Yet all in all, I would rank Gunbuster in the top 20 anime of all time.\"\n        ],\n        \"semantic_type\": \"\",\n        \"description\": \"\"\n      }\n    },\n    {\n      \"column\": \"clean_review\",\n      \"properties\": {\n        \"dtype\": \"string\",\n        \"num_unique_values\": 24903,\n        \"samples\": [\n          \"though would okay movie since like zombie horror movie general not think would piece sht like zombie movie beginning get ran god damn car movie look written porn director filled porn actor wouldnt ever call actor costume seems stolen local school play seems like road movie almost monster fun piece sht horror not way director intended would rather raped pedophile see movie ever ugh\",\n          \"one movie thats difficult review without giving away plot suffice say weird thing unexpected twist going beyond initial superficial tom cruise screw around multiple woman plotbr br quality cast elevate movie norm cast well suited part cruise irritatingly smug playboy loses diaz attractive slightly deranged jilted lover cruz exotic new girl scene russell fatherly psychologist story involves element romance morality murdermystery suspense scifi generally entertaining tripbr br add photography also uniformly excellent insertion various visual metaphor beautiful realize whats going onbr br enjoy wellacted movie twist suspense prepared accept slightly fantastic philip k dick style resolution mustsee br br 910\"\n        ],\n        \"semantic_type\": \"\",\n        \"description\": \"\"\n      }\n    }\n  ]\n}"
            }
          },
          "metadata": {},
          "execution_count": 10
        }
      ]
    },
    {
      "cell_type": "markdown",
      "source": [
        "<font color = 'purple' size='+3'><b>Logistic Regression</b></font>"
      ],
      "metadata": {
        "id": "aY76bosbLPqC"
      }
    },
    {
      "cell_type": "code",
      "source": [
        "vect = CountVectorizer(vocabulary = vocab)\n",
        "\n",
        "tfid = TfidfTransformer(norm='l2', sublinear_tf=True)"
      ],
      "metadata": {
        "id": "Zrjoerg7KfIm"
      },
      "execution_count": null,
      "outputs": []
    },
    {
      "cell_type": "code",
      "source": [
        "# Training and validation split\n",
        "X_train, X_valid, y_train, y_valid = train_test_split(movie_reviews.clean_review, movie_reviews.label,\n",
        "                                                    test_size=0.20,  random_state=1234, shuffle = True)"
      ],
      "metadata": {
        "id": "wntGd-iOPA8B"
      },
      "execution_count": null,
      "outputs": []
    },
    {
      "cell_type": "code",
      "source": [
        "Xtrain_vec = vect.fit_transform(X_train)\n",
        "Xtrain_tfid = tfid.fit_transform(Xtrain_vec)\n",
        "\n",
        "Xvalid_vec = vect.transform(X_valid)\n",
        "Xvalid_tfid = tfid.transform(Xvalid_vec)"
      ],
      "metadata": {
        "id": "w446aA-kLrma"
      },
      "execution_count": null,
      "outputs": []
    },
    {
      "cell_type": "code",
      "source": [
        "# Model\n",
        "lr = LogisticRegression(penalty = 'l2', solver = \"saga\", max_iter = 10000, random_state=22, C = 10)\n",
        "lr.fit(Xtrain_tfid, y_train)"
      ],
      "metadata": {
        "id": "tBtryyyvMTrq",
        "colab": {
          "base_uri": "https://localhost:8080/",
          "height": 74
        },
        "outputId": "e11f1fe7-594e-416e-d809-1c17de1606c5"
      },
      "execution_count": null,
      "outputs": [
        {
          "output_type": "execute_result",
          "data": {
            "text/plain": [
              "LogisticRegression(C=10, max_iter=10000, random_state=22, solver='saga')"
            ],
            "text/html": [
              "<style>#sk-container-id-1 {color: black;background-color: white;}#sk-container-id-1 pre{padding: 0;}#sk-container-id-1 div.sk-toggleable {background-color: white;}#sk-container-id-1 label.sk-toggleable__label {cursor: pointer;display: block;width: 100%;margin-bottom: 0;padding: 0.3em;box-sizing: border-box;text-align: center;}#sk-container-id-1 label.sk-toggleable__label-arrow:before {content: \"▸\";float: left;margin-right: 0.25em;color: #696969;}#sk-container-id-1 label.sk-toggleable__label-arrow:hover:before {color: black;}#sk-container-id-1 div.sk-estimator:hover label.sk-toggleable__label-arrow:before {color: black;}#sk-container-id-1 div.sk-toggleable__content {max-height: 0;max-width: 0;overflow: hidden;text-align: left;background-color: #f0f8ff;}#sk-container-id-1 div.sk-toggleable__content pre {margin: 0.2em;color: black;border-radius: 0.25em;background-color: #f0f8ff;}#sk-container-id-1 input.sk-toggleable__control:checked~div.sk-toggleable__content {max-height: 200px;max-width: 100%;overflow: auto;}#sk-container-id-1 input.sk-toggleable__control:checked~label.sk-toggleable__label-arrow:before {content: \"▾\";}#sk-container-id-1 div.sk-estimator input.sk-toggleable__control:checked~label.sk-toggleable__label {background-color: #d4ebff;}#sk-container-id-1 div.sk-label input.sk-toggleable__control:checked~label.sk-toggleable__label {background-color: #d4ebff;}#sk-container-id-1 input.sk-hidden--visually {border: 0;clip: rect(1px 1px 1px 1px);clip: rect(1px, 1px, 1px, 1px);height: 1px;margin: -1px;overflow: hidden;padding: 0;position: absolute;width: 1px;}#sk-container-id-1 div.sk-estimator {font-family: monospace;background-color: #f0f8ff;border: 1px dotted black;border-radius: 0.25em;box-sizing: border-box;margin-bottom: 0.5em;}#sk-container-id-1 div.sk-estimator:hover {background-color: #d4ebff;}#sk-container-id-1 div.sk-parallel-item::after {content: \"\";width: 100%;border-bottom: 1px solid gray;flex-grow: 1;}#sk-container-id-1 div.sk-label:hover label.sk-toggleable__label {background-color: #d4ebff;}#sk-container-id-1 div.sk-serial::before {content: \"\";position: absolute;border-left: 1px solid gray;box-sizing: border-box;top: 0;bottom: 0;left: 50%;z-index: 0;}#sk-container-id-1 div.sk-serial {display: flex;flex-direction: column;align-items: center;background-color: white;padding-right: 0.2em;padding-left: 0.2em;position: relative;}#sk-container-id-1 div.sk-item {position: relative;z-index: 1;}#sk-container-id-1 div.sk-parallel {display: flex;align-items: stretch;justify-content: center;background-color: white;position: relative;}#sk-container-id-1 div.sk-item::before, #sk-container-id-1 div.sk-parallel-item::before {content: \"\";position: absolute;border-left: 1px solid gray;box-sizing: border-box;top: 0;bottom: 0;left: 50%;z-index: -1;}#sk-container-id-1 div.sk-parallel-item {display: flex;flex-direction: column;z-index: 1;position: relative;background-color: white;}#sk-container-id-1 div.sk-parallel-item:first-child::after {align-self: flex-end;width: 50%;}#sk-container-id-1 div.sk-parallel-item:last-child::after {align-self: flex-start;width: 50%;}#sk-container-id-1 div.sk-parallel-item:only-child::after {width: 0;}#sk-container-id-1 div.sk-dashed-wrapped {border: 1px dashed gray;margin: 0 0.4em 0.5em 0.4em;box-sizing: border-box;padding-bottom: 0.4em;background-color: white;}#sk-container-id-1 div.sk-label label {font-family: monospace;font-weight: bold;display: inline-block;line-height: 1.2em;}#sk-container-id-1 div.sk-label-container {text-align: center;}#sk-container-id-1 div.sk-container {/* jupyter's `normalize.less` sets `[hidden] { display: none; }` but bootstrap.min.css set `[hidden] { display: none !important; }` so we also need the `!important` here to be able to override the default hidden behavior on the sphinx rendered scikit-learn.org. See: https://github.com/scikit-learn/scikit-learn/issues/21755 */display: inline-block !important;position: relative;}#sk-container-id-1 div.sk-text-repr-fallback {display: none;}</style><div id=\"sk-container-id-1\" class=\"sk-top-container\"><div class=\"sk-text-repr-fallback\"><pre>LogisticRegression(C=10, max_iter=10000, random_state=22, solver=&#x27;saga&#x27;)</pre><b>In a Jupyter environment, please rerun this cell to show the HTML representation or trust the notebook. <br />On GitHub, the HTML representation is unable to render, please try loading this page with nbviewer.org.</b></div><div class=\"sk-container\" hidden><div class=\"sk-item\"><div class=\"sk-estimator sk-toggleable\"><input class=\"sk-toggleable__control sk-hidden--visually\" id=\"sk-estimator-id-1\" type=\"checkbox\" checked><label for=\"sk-estimator-id-1\" class=\"sk-toggleable__label sk-toggleable__label-arrow\">LogisticRegression</label><div class=\"sk-toggleable__content\"><pre>LogisticRegression(C=10, max_iter=10000, random_state=22, solver=&#x27;saga&#x27;)</pre></div></div></div></div></div>"
            ]
          },
          "metadata": {},
          "execution_count": 14
        }
      ]
    },
    {
      "cell_type": "code",
      "source": [
        "# Class probabilities prediction - validation set\n",
        "p_hat_val = lr.predict_proba(Xvalid_tfid)\n",
        "\n",
        "# P(DEFAULT = 1) predictions\n",
        "p_hat_val_class1 = p_hat_val[:,1]\n",
        "\n",
        "\n",
        "# False positive and true positive rates and the corresponding thresholds (cutoffs)\n",
        "fpr, tpr, thresholds = metrics.roc_curve(y_valid, p_hat_val_class1)\n",
        "\n",
        "\n",
        "# Displaying ROC curve (validation set)\n",
        "ROC = metrics.RocCurveDisplay(fpr = fpr, tpr = tpr)\n",
        "ROC.plot(linewidth=3, color='purple')\n",
        "plt.title('ROC Curve - Validation set', fontsize = 15)\n",
        "plt.xlabel(\"False positive rate\", fontsize = 13)\n",
        "plt.ylabel(\"True positive rate\", fontsize = 13)\n",
        "plt.show()"
      ],
      "metadata": {
        "id": "d5v8DYkXgCpo",
        "colab": {
          "base_uri": "https://localhost:8080/",
          "height": 478
        },
        "outputId": "da68a070-6099-4fb6-a58c-bfd4671ca32a"
      },
      "execution_count": null,
      "outputs": [
        {
          "output_type": "display_data",
          "data": {
            "text/plain": [
              "<Figure size 640x480 with 1 Axes>"
            ],
            "image/png": "[encoded data removed]"
          },
          "metadata": {}
        }
      ]
    },
    {
      "cell_type": "code",
      "source": [
        "def find_optimal_cutoff(model, X, y):\n",
        "\n",
        "    fpr, tpr, thresholds = metrics.roc_curve(y, model.predict_proba(X)[:, 1])\n",
        "\n",
        "    # fnr stands for false negative rate\n",
        "    fnr = 1 - tpr\n",
        "\n",
        "    min_distance = float('inf')\n",
        "    best_cutoff = None\n",
        "    for i, threshold in enumerate(thresholds):\n",
        "        distance = np.sqrt((fnr[i])**2 + (fpr[i])**2)\n",
        "        if distance < min_distance:\n",
        "            min_distance = distance\n",
        "            best_cutoff = threshold\n",
        "\n",
        "    return best_cutoff"
      ],
      "metadata": {
        "id": "eOpqAbQVF7i5"
      },
      "execution_count": null,
      "outputs": []
    },
    {
      "cell_type": "code",
      "source": [
        "cut_opt = find_optimal_cutoff(lr, Xvalid_tfid, y_valid)\n",
        "print(cut_opt)\n",
        "\n",
        "# Class prediction - validation set\n",
        "y_val_hat = [1 if prob > cut_opt else 0 for prob in p_hat_val_class1]\n",
        "\n",
        "# Confusion matrix - validation set\n",
        "conf_mat_val = metrics.confusion_matrix(y_valid, y_val_hat)\n",
        "conf_mat_val"
      ],
      "metadata": {
        "colab": {
          "base_uri": "https://localhost:8080/"
        },
        "id": "hgzZ1bJRSLjF",
        "outputId": "ade5dde9-ec52-439b-b594-dffbc6a7328c"
      },
      "execution_count": null,
      "outputs": [
        {
          "output_type": "stream",
          "name": "stdout",
          "text": [
            "0.4946701174026997\n"
          ]
        },
        {
          "output_type": "execute_result",
          "data": {
            "text/plain": [
              "array([[2226,  286],\n",
              "       [ 250, 2238]])"
            ]
          },
          "metadata": {},
          "execution_count": 21
        }
      ]
    },
    {
      "cell_type": "code",
      "source": [
        "fpr_val = conf_mat_val[0,1] / (conf_mat_val[0,0] + conf_mat_val[0,1])\n",
        "fnr_val = conf_mat_val[1,0] / (conf_mat_val[1,0] + conf_mat_val[1,1])\n",
        "\n",
        "print(f'AUC: {metrics.roc_auc_score(y_valid, y_val_hat)}')\n",
        "print(f'Accuracy: {metrics.accuracy_score(y_valid, y_val_hat) * 100:.2f}%')\n",
        "print(\"False positive rate: {:.2f}%\".format(fpr_val * 100))\n",
        "print(\"False negative rate: {:.2f}%\".format(fnr_val * 100))\n",
        "print(f'Precision: {metrics.precision_score(y_valid, y_val_hat) * 100:.2f}%')\n",
        "print(f'Sensivity (true positive rate) : {metrics.recall_score(y_valid, y_val_hat) * 100:.2f}%')\n",
        "print(f'Specificity (true negative rate): {metrics.recall_score(y_valid, y_val_hat, pos_label=0) * 100:.2f}%')\n",
        "\n",
        "print(\"\\n\")\n",
        "print(\"\\n\")\n",
        "print(\"\\033[4m\" + \"Classification report - Validation set\" + \"\\033[0m\")\n",
        "print(\"\\n\")\n",
        "print(metrics.classification_report(y_valid, y_val_hat))"
      ],
      "metadata": {
        "colab": {
          "base_uri": "https://localhost:8080/"
        },
        "id": "lV0vSaaXSpT9",
        "outputId": "a0673ca0-50e3-4e21-e369-bfa7d0f10a5e"
      },
      "execution_count": null,
      "outputs": [
        {
          "output_type": "stream",
          "name": "stdout",
          "text": [
            "AUC: 0.8928320908513732\n",
            "Accuracy: 89.28%\n",
            "False positive rate: 11.39%\n",
            "False negative rate: 10.05%\n",
            "Precision: 88.67%\n",
            "Sensivity (true positive rate) : 89.95%\n",
            "Specificity (true negative rate): 88.61%\n",
            "\n",
            "\n",
            "\n",
            "\n",
            "\u001b[4mClassification report - Validation set\u001b[0m\n",
            "\n",
            "\n",
            "              precision    recall  f1-score   support\n",
            "\n",
            "           0       0.90      0.89      0.89      2512\n",
            "           1       0.89      0.90      0.89      2488\n",
            "\n",
            "    accuracy                           0.89      5000\n",
            "   macro avg       0.89      0.89      0.89      5000\n",
            "weighted avg       0.89      0.89      0.89      5000\n",
            "\n"
          ]
        }
      ]
    },
    {
      "cell_type": "markdown",
      "source": [
        "<font color = 'purple' size='+3'><b>Hyperparameters tuning using Grid Search and Cross-validation</b></font>"
      ],
      "metadata": {
        "id": "vQS1JkkFUb3C"
      }
    },
    {
      "cell_type": "code",
      "source": [
        "lr_grid = LogisticRegression(max_iter=10000, random_state = 22)\n",
        "\n",
        "\n",
        "param_grid = {\n",
        "    'C': [0.1, 1, 10, 50, 100],\n",
        "    'penalty': ['l1', 'l2', 'elasticnet', 'none'],\n",
        "    'solver': ['lbfgs', 'liblinear', 'saga']\n",
        "}\n",
        "\n",
        "\n",
        "grid_search = GridSearchCV(estimator=lr_grid, param_grid=param_grid, cv=5, n_jobs=-1, verbose=2, scoring='roc_auc')\n",
        "\n",
        "grid_search.fit(Xtrain_tfid, y_train)\n",
        "\n",
        "\n",
        "best_params = grid_search.best_params_\n",
        "best_score = grid_search.best_score_"
      ],
      "metadata": {
        "colab": {
          "base_uri": "https://localhost:8080/"
        },
        "id": "Oqh_C5WeUerj",
        "outputId": "c3fab158-9323-48e9-a86f-808ae6ae765f"
      },
      "execution_count": null,
      "outputs": [
        {
          "output_type": "stream",
          "name": "stdout",
          "text": [
            "Fitting 5 folds for each of 60 candidates, totalling 300 fits\n"
          ]
        }
      ]
    },
    {
      "cell_type": "code",
      "source": [
        "print(f\"Best Parameters: {best_params}\")\n",
        "print(f\"Best Cross-Validation Score: {best_score}\")\n",
        "\n",
        "\n",
        "best_model = grid_search.best_estimator_\n",
        "val_score = best_model.score(Xvalid_tfid, y_valid)\n",
        "\n",
        "print(f\"Validation Set Score: {val_score}\")"
      ],
      "metadata": {
        "colab": {
          "base_uri": "https://localhost:8080/"
        },
        "id": "F-MUUutTUfAL",
        "outputId": "b942d1eb-f821-49e7-c000-392ae1130197"
      },
      "execution_count": null,
      "outputs": [
        {
          "output_type": "stream",
          "name": "stdout",
          "text": [
            "Best Parameters: {'C': 10, 'penalty': 'l2', 'solver': 'liblinear'}\n",
            "Best Cross-Validation Score: 0.9544435820472191\n",
            "Validation Set Score: 0.8926\n"
          ]
        }
      ]
    }
  ]
}